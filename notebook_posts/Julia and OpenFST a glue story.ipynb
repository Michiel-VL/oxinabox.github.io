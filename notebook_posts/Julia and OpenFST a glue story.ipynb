{
  "cells": [
    {
      "metadata": {},
      "cell_type": "markdown",
      "source": "## Julia as a Glue Language\n\nJulia is a great language for scientific and technical programming.\nIt is more or all I use in my research code these days.\nIt gets a lot of attention for being great for scientific programming because of its:\ngreat matrix syntax, high speed and optimisability, foreign function interfaces, range of scientific libraries, etc etc.\nIt has all that sure. (Though it is still in alpha, so many things are a bit broken at times.)\nOne things that is under-mentioned is how great it is as a \"glue\" language. <!--more-->  \n([Randy Zwitch](http://randyzwitch.com/julia-odbc-jl/) did also blog about this in 2014, though but I feel it is time for another.).\n\nJulia (also) works great as a scripting language to glue together commandline programs.\nTaking output from one and giving it as input to the next, with a little processing in between.\nOften one would use `bash` for this -- there is a long tradition of such.\nMany scientific/technial programs have been made this way.\nFor example Kaldi for speech recognition research and OpenFST for finite state transducers (the focus of this demo).\nI've been told that some bioinformatics workflows involve piping things between TopHat, Bowtie, Cufflinks and CummeRbund.\nWhether we like this style of tooling, or not, it is probably going to be around forever;\nand if it is a choice between linking to a poorly documented C++ API, or the commandline interface that has a dozen tuitorials I'll thake the commend-line every time.\nSo we need to glue these programs together, into our scientific workflow; as I mentioned before bash is a common tool of choice for this.\n\nHowever Bash is not a nice language to program in, particularly if you need to do some custom code between steps.\nSo one might use `python` for this, but the python syntax for dealing with calling command line programs is kind of arcane.\nI personally need to [read the docs](https://docs.python.org/3.6/library/subprocess.html) everything I use it, and dealing with (double or even triple) escaping strings, is a drag. [Plumbum](https://plumbum.readthedocs.io/en/latest/) is a nice python library for dealing with the need for good glue. But it is a 3rd party library, and in anycase today we are talking about julia.\n\nJulia's commandline running stuff is fairly simple. Take a look at [the documentation](http://docs.julialang.org/en/release-0.5/manual/running-external-programs/)\nCommands go inside backticks, `` `command arg1 arg2` ``, this is basically a special type of string.\nYou can iterpolate into it with `command $juliavar`, and it handles all the escaping in an intuitive way.\nYou can run the commands using `` run(`command arg1 arg2`) ``.\nYou can run it and read its output into a variable by `myvar = readstring(`command arg1 arg2`)`.\nYou can pipe serveral commands together with `` pipeline(`command1`, `command2`) `` which can then by `run` or `readstring`'ed.\nWhen the process returns a failure error code, julia throws an exception.\nIt is all very nice, and easy and that is all you will most of the time.\nYou can, of course, do more advances stuff, but we won't go into that.\n"
    },
    {
      "metadata": {},
      "cell_type": "markdown",
      "source": "This post focuses on [OpenFST](http://www.openfst.org/).\nI wrote an [introduction to OpenFST](http://white.ucc.asn.au/Kaldi-Notes/fst-example/) a few years back, as part of some notes on Kaldi.\nIf your are not familar with OpenFST, you might like to skim through that first before reading this.\nThe basic deal is that it is a tool for [Finite State Transducers](https://en.wikipedia.org/wiki/Finite-state_transducer).\nLike in those notes some of the examples are borrowed from [Mark Hasegawa-Johnson's 2009 lecture notes](http://www.isle.illinois.edu/sst/courses/minicourses/2009/lecture6.pdf)."
    },
    {
      "metadata": {},
      "cell_type": "markdown",
      "source": "The only library I am using is julia's incuded testing library.\nAs well I am using OpenFST (of course), and graphviz (`dot`) to draw the diagrams.\nI worked on this as a [IJulia notebook](https://github.com/JuliaLang/IJulia.jl)."},
    {
      "metadata": {
        "trusted": true,
        "collapsed": true
      },
      "cell_type": "code",
      "source": "using Base.Test",
      "execution_count": 1,
      "outputs": []
    },
    {
      "metadata": {},
      "cell_type": "markdown",
      "source": "Before getting into it, I've made a pair of helper functions to create, and delete temp files.\nOne thing I would like julia to have for this is a way of easily converting strings to temp files,\nand then deleting the files when there are no more references to their filenames in scope.\nAs you can see below it is not to hard to code this,\nand it proves fairly useful in the examples that follow.\nMy tmpdir is set to `/dev/shm/` which is a RAM drive (so super fast) on most linux distro's intended for sharing memory between programs -- exactly what we are doing here.\n"
    },
    {
      "metadata": {
        "collapsed": false,
        "trusted": true
      },
      "cell_type": "code",
      "source": "\"\"\"\nSave the contents into a temporary \nTakes a Scope to track which files are created\nwhen the scope is closed, will delete the tmpfiles\"\"\"\nfunction asfile(scope::Vector, contents)\n    fname, fh = mktemp() \n    print(fh, contents)\n    close(fh)\n    push!(scope, fname)\n    fname\nend\n\n\"\"\"Holds a scope for deleting the tmp files, created within, using `asfile`\nUse a do block.\n\"\"\"\nfunction withscope(func)\n    files = String[]\n    func(files)\n    rm.(files)\nend\n\n###### Test that is works right\n@testset \"asfile\" begin\n    fname1 = \"\"\n    fname2 = \"\"\n    withscope() do scope\n        fname1 = asfile(scope, \"hi ho\")\n        @test readstring(`cat $fname1`) == \"hi ho\"\n        \n        fname2 = asfile(scope, \"li lo\")\n        @test readstring(`cat $fname2`) == \"li lo\"\n        \n        @test isfile(fname1)\n        @test isfile(fname2)\n    end\n    @test !isfile(fname1)\n    @test !isfile(fname2)\nend;",
      "execution_count": 2,
      "outputs": [
        {
          "output_type": "stream",
          "text": "Test Summary: | Pass  Total\n  asfile      |    6      6\n",
          "name": "stdout"
        }
      ]
    },
    {
      "metadata": {},
      "cell_type": "markdown",
      "source": "OpenFST needs a table mapping symbol names to id numbers.\nIf you were going this in bash, you would probably call out to an Awk script for this,\nbut it is easy enough in julia."
    },
    {
      "metadata": {
        "collapsed": false,
        "trusted": true
      },
      "cell_type": "code",
      "source": "\"\"\"Make a table of name id number from a list of strings\"\"\"\nmake_syms_txt(syms) = join(( sym*\"\\t\"*string(ii) for (ii, sym) in enumerate(syms)), \"\\n\") \n    \n@testset \"table making\" begin\n    @test make_syms_txt([\"a\", \"b\", \"c\"]) ==  \"\"\"a\t1\n                                                b\t2\n                                                c\t3\"\"\"\nend;",
      "execution_count": 3,
      "outputs": [
        {
          "output_type": "stream",
          "text": "Test Summary: | Pass  Total\n  table making |    1      1\n",
          "name": "stdout"
        }
      ]
    },
    {
      "metadata": {},
      "cell_type": "markdown",
      "source": "For convenience I am going to wrap up the most commonly used commands, `fstcompile` and `fstdraw`.\nIt is not really required, but to save on typing and for [DRY](https://en.wikipedia.org/wiki/Don't_repeat_yourself).\n`fstcompile` simply interpolates the arguments into the command -- which can then be run, perhaps in a `pipeline`.\n`draw_fst` builds a pipeline first using `fstdraw` to convert the FST to a graphvis dot format, then dot to make the SVG.\n The pipeline is run (with `readstring`) and then we use `display` passing it the MIMEtype so [IJulia will display the image](http://stackoverflow.com/q/41693386/179081).\nMy change of naming convention is intentional to indicate that it is not just a wrapper of a OpenFST command. if it just wrapped `fstdraw` I would name it as such, but it does not.)\nWhether your use of julia as a glue language benifits from this kind of then depends on the use case, of course.\nAs you will see later I don't all wrap all the commands I use, and I can't always use the wrappers.\n"
    },
    {
      "metadata": {
        "collapsed": false,
        "trusted": true
      },
      "cell_type": "code",
      "source": "\"\"\"Wrapper around the FST compile command\"\"\"\nfstcompile(iosyms, fsttxt; flags=``) = `fstcompile $flags --isymbols=$iosyms --osymbols=$iosyms --keep_isymbols --keep_osymbols $fsttxt`\nfstcompile(flags, iosyms, fsttxt) = fstcompile(iosyms, fsttxt; flags=flags)\n\n\"\"\"Wrapper around FST draw command, and graphviz dot, that displays the resulting visualisation\"\"\"\nfunction draw_fst(filename)\n    img = pipeline(\n        `fstdraw --portrait $filename`,\n        `dot -Tsvg`\n    ) |> readstring     \n    display(\"image/svg+xml\", img)\nend",
      "execution_count": 4,
      "outputs": [
        {
          "output_type": "execute_result",
          "data": {
            "text/plain": "draw_fst"
          },
          "metadata": {},
          "execution_count": 4
        }
      ]
    },
    {
      "metadata": {
        "collapsed": false,
        "trusted": true
      },
      "cell_type": "markdown",
      "source": "Now to get started. To check everything is working we will run a very simple example.\nCompile a FST that toggles the capitalisation of the first letter of the word \"red\".\nDisplay it's info, and the state diagram.\nSo we make our FST text file, our symbol table,\ncapture the output from `fstcompile`  into a tmpfile also -- with `asfile` and `readstring`.\nrun our other commands.\nEasy."
    },
    {
      "metadata": {
        "collapsed": false,
        "trusted": true
      },
      "cell_type": "code",
      "source": "withscope() do scope\n    fsttxt = asfile(scope, \"\"\"\n    0 0 red Red\n    0 0 Red red\n    \"\"\")\n    syms = asfile(scope, make_syms_txt(split(\"red Red\")))\n    \n    fst = asfile(scope, readstring(fstcompile(syms, fsttxt))) \n    run(`fstinfo $fst`) # Here we don't need to capture the output, it can just be printed to STDOUT \n    draw_fst(fst)\nend;\n    ",
      "execution_count": 5,
      "outputs": [
        {
          "output_type": "stream",
          "text": "fst type                                          vector\narc type                                          standard\ninput symbol table                                /dev/shm/tmpsdzuhH\noutput symbol table                               /dev/shm/tmpsdzuhH\n# of states                                       1\n# of arcs                                         2\ninitial state                                     0\n# of final states                                 0\n# of input/output epsilons                        0\n# of input epsilons                               0\n# of output epsilons                              0\ninput label multiplicity                          1\noutput label multiplicity                         1\n# of accessible states                            1\n# of coaccessible states                          0\n# of connected states                             0\n# of connected components                         1\n# of strongly conn components                     1\ninput matcher                                     y\noutput matcher                                    n\ninput lookahead                                   n\noutput lookahead                                  n\nexpanded                                          y\nmutable                                           y\nerror                                             n\nacceptor                                          n\ninput deterministic                               y\noutput deterministic                              y\ninput/output epsilons                             n\ninput epsilons                                    n\noutput epsilons                                   n\ninput label sorted                                y\noutput label sorted                               n\nweighted                                          n\ncyclic                                            y\ncyclic at initial state                           y\ntop sorted                                        n\naccessible                                        y\ncoaccessible                                      n\nstring                                            n\nweighted cycles                                   n\n",
          "name": "stdout"
        },
        {
          "output_type": "display_data",
          "data": {
            "image/svg+xml": "<?xml version=\"1.0\" encoding=\"UTF-8\" standalone=\"no\"?>\n<!DOCTYPE svg PUBLIC \"-//W3C//DTD SVG 1.1//EN\"\n \"http://www.w3.org/Graphics/SVG/1.1/DTD/svg11.dtd\">\n<!-- Generated by graphviz version 2.38.0 (20140413.2041)\n -->\n<!-- Title: FST Pages: 1 -->\n<svg width=\"51pt\" height=\"110pt\"\n viewBox=\"0.00 0.00 51.00 110.00\" xmlns=\"http://www.w3.org/2000/svg\" xmlns:xlink=\"http://www.w3.org/1999/xlink\">\n<g id=\"graph0\" class=\"graph\" transform=\"scale(1 1) rotate(0) translate(4 106)\">\n<title>FST</title>\n<polygon fill=\"white\" stroke=\"none\" points=\"-4,4 -4,-106 47,-106 47,4 -4,4\"/>\n<!-- 0 -->\n<g id=\"node1\" class=\"node\"><title>0</title>\n<ellipse fill=\"none\" stroke=\"black\" stroke-width=\"2\" cx=\"21.5\" cy=\"-18\" rx=\"18\" ry=\"18\"/>\n<text text-anchor=\"middle\" x=\"21.5\" y=\"-14.3\" font-family=\"Times,serif\" font-size=\"14.00\">0</text>\n</g>\n<!-- 0&#45;&gt;0 -->\n<g id=\"edge1\" class=\"edge\"><title>0&#45;&gt;0</title>\n<path fill=\"none\" stroke=\"black\" d=\"M18.2643,-35.7817C17.7144,-45.3149 18.793,-54 21.5,-54 23.1496,-54 24.1945,-50.7749 24.6347,-46.0981\"/>\n<polygon fill=\"black\" stroke=\"black\" points=\"28.1375,-45.8156 24.7357,-35.7817 21.1379,-45.7469 28.1375,-45.8156\"/>\n<text text-anchor=\"middle\" x=\"21.5\" y=\"-57.8\" font-family=\"Times,serif\" font-size=\"14.00\">red:Red</text>\n</g>\n<!-- 0&#45;&gt;0 -->\n<g id=\"edge2\" class=\"edge\"><title>0&#45;&gt;0</title>\n<path fill=\"none\" stroke=\"black\" d=\"M16.1841,-35.4203C13.1538,-52.791 14.9258,-72 21.5,-72 26.7902,-72 28.9708,-59.5617 28.0419,-45.652\"/>\n<polygon fill=\"black\" stroke=\"black\" points=\"31.4808,-44.9328 26.8159,-35.4203 24.5305,-45.7657 31.4808,-44.9328\"/>\n<text text-anchor=\"middle\" x=\"21.5\" y=\"-75.8\" font-family=\"Times,serif\" font-size=\"14.00\">Red:red</text>\n</g>\n</g>\n</svg>\n"
          },
          "metadata": {}
        }
      ]
    },
    {
      "metadata": {},
      "cell_type": "markdown",
      "source": "Now a more complicted example.\nWe are going to generate a lexicon (dictionary), FST that tranduces between a part of speech, and a word that matches it.\nAnd a Finite State Acceptor (FSA) that defines a grammer on parts of speech -- a legal ordering of those parts of speech.\nWe would like to find out what are the legal orderings of words from that lexicon.\nWe do this by composing the FSA with the FST,\nthen projecting to only the output space (the words from the lexicon).\nThe code uses a few more `asfile`s than I would like, it maybe be possible to pipe the input the the `fstcompile` so that can go straight from a string of the text FST table, to the compiled FST.\noverall thought it is fairly clean and I think one can easily see what is going on."
    },
    {
      "metadata": {
        "collapsed": false,
        "trusted": true
      },
      "cell_type": "code",
      "source": "withscope() do scope\n    syms = asfile(scope, make_syms_txt(split(\"DET N V the a cat dog mouse chased bit\")))\n    dictFst = asfile(scope, readstring(fstcompile(syms, asfile(scope, \"\"\"\n    0 0 DET the\n    0 0 DET a\n    0 0 N cat\n    0 0 N dog\n    0 0 N mouse\n    0 0 V chased\n    0 0 V bit\n    0\n    \"\"\"))))\n    draw_fst(dictFst)\n    \n    grammarFsa = asfile(scope, readstring(fstcompile(`--acceptor`, syms, asfile(scope, \"\"\"\n    0 1 DET\n    1 2 N\n    2 3 V\n    3 4 DET\n    4 5 N\n    5\n    3\n    \"\"\"))))\n    draw_fst(grammarFsa)\n    \n    img = pipeline(\n        `fstcompose --fst_compat_symbols=false $grammarFsa $dictFst`,\n        `fstproject --project_output`,\n        `fstdraw --portrait --acceptor`,\n        `dot -Tsvg`\n    ) |> readstring     \n    display(\"image/svg+xml\", img)\nend;\n",
      "execution_count": 6,
      "outputs": [
        {
          "output_type": "display_data",
          "data": {
            "image/svg+xml": "<?xml version=\"1.0\" encoding=\"UTF-8\" standalone=\"no\"?>\n<!DOCTYPE svg PUBLIC \"-//W3C//DTD SVG 1.1//EN\"\n \"http://www.w3.org/Graphics/SVG/1.1/DTD/svg11.dtd\">\n<!-- Generated by graphviz version 2.38.0 (20140413.2041)\n -->\n<!-- Title: FST Pages: 1 -->\n<svg width=\"59pt\" height=\"283pt\"\n viewBox=\"0.00 0.00 59.00 283.00\" xmlns=\"http://www.w3.org/2000/svg\" xmlns:xlink=\"http://www.w3.org/1999/xlink\">\n<g id=\"graph0\" class=\"graph\" transform=\"scale(1 1) rotate(0) translate(4 279)\">\n<title>FST</title>\n<polygon fill=\"white\" stroke=\"none\" points=\"-4,4 -4,-279 55,-279 55,4 -4,4\"/>\n<!-- 0 -->\n<g id=\"node1\" class=\"node\"><title>0</title>\n<ellipse fill=\"none\" stroke=\"black\" stroke-width=\"2\" cx=\"25.5\" cy=\"-22\" rx=\"18\" ry=\"18\"/>\n<ellipse fill=\"none\" stroke=\"black\" stroke-width=\"2\" cx=\"25.5\" cy=\"-22\" rx=\"22\" ry=\"22\"/>\n<text text-anchor=\"middle\" x=\"25.5\" y=\"-18.3\" font-family=\"Times,serif\" font-size=\"14.00\">0</text>\n</g>\n<!-- 0&#45;&gt;0 -->\n<g id=\"edge1\" class=\"edge\"><title>0&#45;&gt;0</title>\n<path fill=\"none\" stroke=\"black\" d=\"M24.0179,-44.2124C23.8966,-53.7952 24.3906,-62 25.5,-62 26.176,-62 26.6235,-58.9533 26.8426,-54.4045\"/>\n<polygon fill=\"black\" stroke=\"black\" points=\"30.3448,-54.2593 26.9821,-44.2124 23.3454,-54.1635 30.3448,-54.2593\"/>\n<text text-anchor=\"middle\" x=\"25.5\" y=\"-65.8\" font-family=\"Times,serif\" font-size=\"14.00\">DET:the</text>\n</g>\n<!-- 0&#45;&gt;0 -->\n<g id=\"edge2\" class=\"edge\"><title>0&#45;&gt;0</title>\n<path fill=\"none\" stroke=\"black\" d=\"M22.9219,-44.019C21.8906,-61.724 22.75,-80 25.5,-80 27.7129,-80 28.7016,-68.1659 28.466,-54.318\"/>\n<polygon fill=\"black\" stroke=\"black\" points=\"31.9521,-53.8802 28.0781,-44.019 24.9571,-54.1437 31.9521,-53.8802\"/>\n<text text-anchor=\"middle\" x=\"25.5\" y=\"-83.8\" font-family=\"Times,serif\" font-size=\"14.00\">DET:a</text>\n</g>\n<!-- 0&#45;&gt;0 -->\n<g id=\"edge3\" class=\"edge\"><title>0&#45;&gt;0</title>\n<path fill=\"none\" stroke=\"black\" d=\"M22.1964,-43.7844C19.8519,-68.9032 20.9531,-98 25.5,-98 29.443,-98 30.7948,-76.1188 29.5554,-53.9257\"/>\n<polygon fill=\"black\" stroke=\"black\" points=\"33.0334,-53.4983 28.8036,-43.7844 26.0525,-54.0158 33.0334,-53.4983\"/>\n<text text-anchor=\"middle\" x=\"25.5\" y=\"-101.8\" font-family=\"Times,serif\" font-size=\"14.00\">N:cat</text>\n</g>\n<!-- 0&#45;&gt;0 -->\n<g id=\"edge4\" class=\"edge\"><title>0&#45;&gt;0</title>\n<path fill=\"none\" stroke=\"black\" d=\"M21.6713,-43.714C17.8175,-75.815 19.0938,-116 25.5,-116 31.2556,-116 32.8703,-83.563 30.3442,-53.6944\"/>\n<polygon fill=\"black\" stroke=\"black\" points=\"33.8231,-53.3084 29.3287,-43.714 26.859,-54.017 33.8231,-53.3084\"/>\n<text text-anchor=\"middle\" x=\"25.5\" y=\"-119.8\" font-family=\"Times,serif\" font-size=\"14.00\">N:dog</text>\n</g>\n<!-- 0&#45;&gt;0 -->\n<g id=\"edge5\" class=\"edge\"><title>0&#45;&gt;0</title>\n<path fill=\"none\" stroke=\"black\" d=\"M21.2685,-43.7156C15.7887,-82.5524 17.1992,-134 25.5,-134 33.0874,-134 34.918,-91.015 30.9916,-53.967\"/>\n<polygon fill=\"black\" stroke=\"black\" points=\"34.4254,-53.2138 29.7315,-43.7156 27.4777,-54.0679 34.4254,-53.2138\"/>\n<text text-anchor=\"middle\" x=\"25.5\" y=\"-137.8\" font-family=\"Times,serif\" font-size=\"14.00\">N:mouse</text>\n</g>\n<!-- 0&#45;&gt;0 -->\n<g id=\"edge6\" class=\"edge\"><title>0&#45;&gt;0</title>\n<path fill=\"none\" stroke=\"black\" d=\"M20.9495,-43.7361C13.7644,-89.1529 15.2812,-152 25.5,-152 34.9803,-152 36.9709,-97.9081 31.4719,-53.8251\"/>\n<polygon fill=\"black\" stroke=\"black\" points=\"34.9114,-53.15 30.0505,-43.7361 27.9799,-54.1266 34.9114,-53.15\"/>\n<text text-anchor=\"middle\" x=\"25.5\" y=\"-155.8\" font-family=\"Times,serif\" font-size=\"14.00\">V:chased</text>\n</g>\n<!-- 0&#45;&gt;0 -->\n<g id=\"edge7\" class=\"edge\"><title>0&#45;&gt;0</title>\n<path fill=\"none\" stroke=\"black\" d=\"M20.7231,-43.5699C11.7397,-95.4667 13.332,-170 25.5,-170 36.9075,-170 39.0199,-104.492 31.8373,-53.5421\"/>\n<polygon fill=\"black\" stroke=\"black\" points=\"35.2809,-52.9086 30.2769,-43.5699 28.365,-53.9908 35.2809,-52.9086\"/>\n<text text-anchor=\"middle\" x=\"25.5\" y=\"-173.8\" font-family=\"Times,serif\" font-size=\"14.00\">V:bit</text>\n</g>\n</g>\n</svg>\n"
          },
          "metadata": {}
        },
        {
          "output_type": "display_data",
          "data": {
            "image/svg+xml": "<?xml version=\"1.0\" encoding=\"UTF-8\" standalone=\"no\"?>\n<!DOCTYPE svg PUBLIC \"-//W3C//DTD SVG 1.1//EN\"\n \"http://www.w3.org/Graphics/SVG/1.1/DTD/svg11.dtd\">\n<!-- Generated by graphviz version 2.38.0 (20140413.2041)\n -->\n<!-- Title: FST Pages: 1 -->\n<svg width=\"576pt\" height=\"52pt\"\n viewBox=\"0.00 0.00 576.00 52.00\" xmlns=\"http://www.w3.org/2000/svg\" xmlns:xlink=\"http://www.w3.org/1999/xlink\">\n<g id=\"graph0\" class=\"graph\" transform=\"scale(1 1) rotate(0) translate(4 48)\">\n<title>FST</title>\n<polygon fill=\"white\" stroke=\"none\" points=\"-4,4 -4,-48 572,-48 572,4 -4,4\"/>\n<!-- 0 -->\n<g id=\"node1\" class=\"node\"><title>0</title>\n<ellipse fill=\"none\" stroke=\"black\" stroke-width=\"2\" cx=\"18\" cy=\"-22\" rx=\"18\" ry=\"18\"/>\n<text text-anchor=\"middle\" x=\"18\" y=\"-18.3\" font-family=\"Times,serif\" font-size=\"14.00\">0</text>\n</g>\n<!-- 1 -->\n<g id=\"node2\" class=\"node\"><title>1</title>\n<ellipse fill=\"none\" stroke=\"black\" cx=\"141\" cy=\"-22\" rx=\"18\" ry=\"18\"/>\n<text text-anchor=\"middle\" x=\"141\" y=\"-18.3\" font-family=\"Times,serif\" font-size=\"14.00\">1</text>\n</g>\n<!-- 0&#45;&gt;1 -->\n<g id=\"edge1\" class=\"edge\"><title>0&#45;&gt;1</title>\n<path fill=\"none\" stroke=\"black\" d=\"M36.0797,-22C55.9649,-22 89.0772,-22 112.577,-22\"/>\n<polygon fill=\"black\" stroke=\"black\" points=\"112.615,-25.5001 122.615,-22 112.615,-18.5001 112.615,-25.5001\"/>\n<text text-anchor=\"middle\" x=\"79.5\" y=\"-25.8\" font-family=\"Times,serif\" font-size=\"14.00\">DET:DET</text>\n</g>\n<!-- 2 -->\n<g id=\"node3\" class=\"node\"><title>2</title>\n<ellipse fill=\"none\" stroke=\"black\" cx=\"231\" cy=\"-22\" rx=\"18\" ry=\"18\"/>\n<text text-anchor=\"middle\" x=\"231\" y=\"-18.3\" font-family=\"Times,serif\" font-size=\"14.00\">2</text>\n</g>\n<!-- 1&#45;&gt;2 -->\n<g id=\"edge2\" class=\"edge\"><title>1&#45;&gt;2</title>\n<path fill=\"none\" stroke=\"black\" d=\"M159.386,-22C171.76,-22 188.631,-22 202.78,-22\"/>\n<polygon fill=\"black\" stroke=\"black\" points=\"202.95,-25.5001 212.95,-22 202.95,-18.5001 202.95,-25.5001\"/>\n<text text-anchor=\"middle\" x=\"186\" y=\"-25.8\" font-family=\"Times,serif\" font-size=\"14.00\">N:N</text>\n</g>\n<!-- 3 -->\n<g id=\"node4\" class=\"node\"><title>3</title>\n<ellipse fill=\"none\" stroke=\"black\" cx=\"325\" cy=\"-22\" rx=\"18\" ry=\"18\"/>\n<ellipse fill=\"none\" stroke=\"black\" cx=\"325\" cy=\"-22\" rx=\"22\" ry=\"22\"/>\n<text text-anchor=\"middle\" x=\"325\" y=\"-18.3\" font-family=\"Times,serif\" font-size=\"14.00\">3</text>\n</g>\n<!-- 2&#45;&gt;3 -->\n<g id=\"edge3\" class=\"edge\"><title>2&#45;&gt;3</title>\n<path fill=\"none\" stroke=\"black\" d=\"M249.304,-22C261.535,-22 278.271,-22 292.802,-22\"/>\n<polygon fill=\"black\" stroke=\"black\" points=\"292.897,-25.5001 302.897,-22 292.897,-18.5001 292.897,-25.5001\"/>\n<text text-anchor=\"middle\" x=\"276\" y=\"-25.8\" font-family=\"Times,serif\" font-size=\"14.00\">V:V</text>\n</g>\n<!-- 4 -->\n<g id=\"node5\" class=\"node\"><title>4</title>\n<ellipse fill=\"none\" stroke=\"black\" cx=\"452\" cy=\"-22\" rx=\"18\" ry=\"18\"/>\n<text text-anchor=\"middle\" x=\"452\" y=\"-18.3\" font-family=\"Times,serif\" font-size=\"14.00\">4</text>\n</g>\n<!-- 3&#45;&gt;4 -->\n<g id=\"edge4\" class=\"edge\"><title>3&#45;&gt;4</title>\n<path fill=\"none\" stroke=\"black\" d=\"M347.205,-22C368.251,-22 400.604,-22 423.59,-22\"/>\n<polygon fill=\"black\" stroke=\"black\" points=\"423.724,-25.5001 433.724,-22 423.724,-18.5001 423.724,-25.5001\"/>\n<text text-anchor=\"middle\" x=\"390.5\" y=\"-25.8\" font-family=\"Times,serif\" font-size=\"14.00\">DET:DET</text>\n</g>\n<!-- 5 -->\n<g id=\"node6\" class=\"node\"><title>5</title>\n<ellipse fill=\"none\" stroke=\"black\" cx=\"546\" cy=\"-22\" rx=\"18\" ry=\"18\"/>\n<ellipse fill=\"none\" stroke=\"black\" cx=\"546\" cy=\"-22\" rx=\"22\" ry=\"22\"/>\n<text text-anchor=\"middle\" x=\"546\" y=\"-18.3\" font-family=\"Times,serif\" font-size=\"14.00\">5</text>\n</g>\n<!-- 4&#45;&gt;5 -->\n<g id=\"edge5\" class=\"edge\"><title>4&#45;&gt;5</title>\n<path fill=\"none\" stroke=\"black\" d=\"M470.304,-22C482.535,-22 499.271,-22 513.802,-22\"/>\n<polygon fill=\"black\" stroke=\"black\" points=\"513.897,-25.5001 523.897,-22 513.897,-18.5001 513.897,-25.5001\"/>\n<text text-anchor=\"middle\" x=\"497\" y=\"-25.8\" font-family=\"Times,serif\" font-size=\"14.00\">N:N</text>\n</g>\n</g>\n</svg>\n"
          },
          "metadata": {}
        },
        {
          "output_type": "display_data",
          "data": {
            "image/svg+xml": "<?xml version=\"1.0\" encoding=\"UTF-8\" standalone=\"no\"?>\n<!DOCTYPE svg PUBLIC \"-//W3C//DTD SVG 1.1//EN\"\n \"http://www.w3.org/Graphics/SVG/1.1/DTD/svg11.dtd\">\n<!-- Generated by graphviz version 2.38.0 (20140413.2041)\n -->\n<!-- Title: FST Pages: 1 -->\n<svg width=\"535pt\" height=\"68pt\"\n viewBox=\"0.00 0.00 535.00 67.78\" xmlns=\"http://www.w3.org/2000/svg\" xmlns:xlink=\"http://www.w3.org/1999/xlink\">\n<g id=\"graph0\" class=\"graph\" transform=\"scale(1 1) rotate(0) translate(4 63.7812)\">\n<title>FST</title>\n<polygon fill=\"white\" stroke=\"none\" points=\"-4,4 -4,-63.7812 531,-63.7812 531,4 -4,4\"/>\n<!-- 0 -->\n<g id=\"node1\" class=\"node\"><title>0</title>\n<ellipse fill=\"none\" stroke=\"black\" stroke-width=\"2\" cx=\"18\" cy=\"-26.7812\" rx=\"18\" ry=\"18\"/>\n<text text-anchor=\"middle\" x=\"18\" y=\"-23.0812\" font-family=\"Times,serif\" font-size=\"14.00\">0</text>\n</g>\n<!-- 1 -->\n<g id=\"node2\" class=\"node\"><title>1</title>\n<ellipse fill=\"none\" stroke=\"black\" cx=\"101\" cy=\"-26.7812\" rx=\"18\" ry=\"18\"/>\n<text text-anchor=\"middle\" x=\"101\" y=\"-23.0812\" font-family=\"Times,serif\" font-size=\"14.00\">1</text>\n</g>\n<!-- 0&#45;&gt;1 -->\n<g id=\"edge1\" class=\"edge\"><title>0&#45;&gt;1</title>\n<path fill=\"none\" stroke=\"black\" d=\"M36.178,-26.7812C46.8097,-26.7812 60.694,-26.7812 72.7965,-26.7812\"/>\n<polygon fill=\"black\" stroke=\"black\" points=\"72.8468,-30.2813 82.8467,-26.7812 72.8467,-23.2813 72.8468,-30.2813\"/>\n<text text-anchor=\"middle\" x=\"59.5\" y=\"-30.5812\" font-family=\"Times,serif\" font-size=\"14.00\">the</text>\n</g>\n<!-- 0&#45;&gt;1 -->\n<g id=\"edge2\" class=\"edge\"><title>0&#45;&gt;1</title>\n<path fill=\"none\" stroke=\"black\" d=\"M32.9086,-16.3204C38.2739,-12.8963 44.6448,-9.5257 51,-7.78117 58.286,-5.78112 60.714,-5.78112 68,-7.78117 71.0783,-8.62618 74.1603,-9.8527 77.1299,-11.282\"/>\n<polygon fill=\"black\" stroke=\"black\" points=\"75.6593,-14.4704 86.0914,-16.3204 79.0899,-8.36867 75.6593,-14.4704\"/>\n<text text-anchor=\"middle\" x=\"59.5\" y=\"-11.5812\" font-family=\"Times,serif\" font-size=\"14.00\">a</text>\n</g>\n<!-- 2 -->\n<g id=\"node3\" class=\"node\"><title>2</title>\n<ellipse fill=\"none\" stroke=\"black\" cx=\"204\" cy=\"-26.7812\" rx=\"18\" ry=\"18\"/>\n<text text-anchor=\"middle\" x=\"204\" y=\"-23.0812\" font-family=\"Times,serif\" font-size=\"14.00\">2</text>\n</g>\n<!-- 1&#45;&gt;2 -->\n<g id=\"edge3\" class=\"edge\"><title>1&#45;&gt;2</title>\n<path fill=\"none\" stroke=\"black\" d=\"M116.752,-35.944C121.998,-38.7101 128.076,-41.3827 134,-42.7812 150.005,-46.5593 154.995,-46.5593 171,-42.7812 173.684,-42.1475 176.4,-41.2522 179.056,-40.2051\"/>\n<polygon fill=\"black\" stroke=\"black\" points=\"180.648,-43.3253 188.248,-35.944 177.703,-36.9745 180.648,-43.3253\"/>\n<text text-anchor=\"middle\" x=\"152.5\" y=\"-48.5812\" font-family=\"Times,serif\" font-size=\"14.00\">cat</text>\n</g>\n<!-- 1&#45;&gt;2 -->\n<g id=\"edge4\" class=\"edge\"><title>1&#45;&gt;2</title>\n<path fill=\"none\" stroke=\"black\" d=\"M118.919,-24.8973C123.781,-24.4368 129.095,-24.0106 134,-23.7812 150.426,-23.0129 154.574,-23.0129 171,-23.7812 172.533,-23.8529 174.106,-23.9438 175.692,-24.0489\"/>\n<polygon fill=\"black\" stroke=\"black\" points=\"175.83,-27.5717 186.081,-24.8973 176.399,-20.595 175.83,-27.5717\"/>\n<text text-anchor=\"middle\" x=\"152.5\" y=\"-27.5812\" font-family=\"Times,serif\" font-size=\"14.00\">dog</text>\n</g>\n<!-- 1&#45;&gt;2 -->\n<g id=\"edge5\" class=\"edge\"><title>1&#45;&gt;2</title>\n<path fill=\"none\" stroke=\"black\" d=\"M114.667,-14.8792C120.173,-10.494 126.967,-6.04651 134,-3.78117 149.653,1.26039 155.347,1.26039 171,-3.78117 174.846,-5.02003 178.621,-6.9115 182.153,-9.08851\"/>\n<polygon fill=\"black\" stroke=\"black\" points=\"180.148,-11.9579 190.333,-14.8792 184.193,-6.24461 180.148,-11.9579\"/>\n<text text-anchor=\"middle\" x=\"152.5\" y=\"-7.58117\" font-family=\"Times,serif\" font-size=\"14.00\">mouse</text>\n</g>\n<!-- 3 -->\n<g id=\"node4\" class=\"node\"><title>3</title>\n<ellipse fill=\"none\" stroke=\"black\" cx=\"311\" cy=\"-26.7812\" rx=\"18\" ry=\"18\"/>\n<ellipse fill=\"none\" stroke=\"black\" cx=\"311\" cy=\"-26.7812\" rx=\"22\" ry=\"22\"/>\n<text text-anchor=\"middle\" x=\"311\" y=\"-23.0812\" font-family=\"Times,serif\" font-size=\"14.00\">3</text>\n</g>\n<!-- 2&#45;&gt;3 -->\n<g id=\"edge6\" class=\"edge\"><title>2&#45;&gt;3</title>\n<path fill=\"none\" stroke=\"black\" d=\"M222.339,-26.7812C237.601,-26.7812 260.202,-26.7812 278.632,-26.7812\"/>\n<polygon fill=\"black\" stroke=\"black\" points=\"278.641,-30.2813 288.641,-26.7812 278.641,-23.2813 278.641,-30.2813\"/>\n<text text-anchor=\"middle\" x=\"255.5\" y=\"-30.5812\" font-family=\"Times,serif\" font-size=\"14.00\">chased</text>\n</g>\n<!-- 2&#45;&gt;3 -->\n<g id=\"edge7\" class=\"edge\"><title>2&#45;&gt;3</title>\n<path fill=\"none\" stroke=\"black\" d=\"M218.909,-16.3204C224.274,-12.8963 230.645,-9.5257 237,-7.78117 252.858,-3.42813 258.038,-3.8274 274,-7.78117 276.99,-8.5219 280.006,-9.56131 282.952,-10.7762\"/>\n<polygon fill=\"black\" stroke=\"black\" points=\"281.476,-13.9497 292.008,-15.104 284.494,-7.63393 281.476,-13.9497\"/>\n<text text-anchor=\"middle\" x=\"255.5\" y=\"-11.5812\" font-family=\"Times,serif\" font-size=\"14.00\">bit</text>\n</g>\n<!-- 4 -->\n<g id=\"node5\" class=\"node\"><title>4</title>\n<ellipse fill=\"none\" stroke=\"black\" cx=\"398\" cy=\"-26.7812\" rx=\"18\" ry=\"18\"/>\n<text text-anchor=\"middle\" x=\"398\" y=\"-23.0812\" font-family=\"Times,serif\" font-size=\"14.00\">4</text>\n</g>\n<!-- 3&#45;&gt;4 -->\n<g id=\"edge8\" class=\"edge\"><title>3&#45;&gt;4</title>\n<path fill=\"none\" stroke=\"black\" d=\"M333.011,-26.7812C344.077,-26.7812 357.781,-26.7812 369.664,-26.7812\"/>\n<polygon fill=\"black\" stroke=\"black\" points=\"369.938,-30.2813 379.938,-26.7812 369.938,-23.2813 369.938,-30.2813\"/>\n<text text-anchor=\"middle\" x=\"356.5\" y=\"-30.5812\" font-family=\"Times,serif\" font-size=\"14.00\">the</text>\n</g>\n<!-- 3&#45;&gt;4 -->\n<g id=\"edge9\" class=\"edge\"><title>3&#45;&gt;4</title>\n<path fill=\"none\" stroke=\"black\" d=\"M329.451,-14.7972C339.685,-9.21917 352.935,-4.46917 365,-7.78117 368.078,-8.62618 371.16,-9.8527 374.13,-11.282\"/>\n<polygon fill=\"black\" stroke=\"black\" points=\"372.659,-14.4704 383.091,-16.3204 376.09,-8.36867 372.659,-14.4704\"/>\n<text text-anchor=\"middle\" x=\"356.5\" y=\"-11.5812\" font-family=\"Times,serif\" font-size=\"14.00\">a</text>\n</g>\n<!-- 5 -->\n<g id=\"node6\" class=\"node\"><title>5</title>\n<ellipse fill=\"none\" stroke=\"black\" cx=\"505\" cy=\"-26.7812\" rx=\"18\" ry=\"18\"/>\n<ellipse fill=\"none\" stroke=\"black\" cx=\"505\" cy=\"-26.7812\" rx=\"22\" ry=\"22\"/>\n<text text-anchor=\"middle\" x=\"505\" y=\"-23.0812\" font-family=\"Times,serif\" font-size=\"14.00\">5</text>\n</g>\n<!-- 4&#45;&gt;5 -->\n<g id=\"edge10\" class=\"edge\"><title>4&#45;&gt;5</title>\n<path fill=\"none\" stroke=\"black\" d=\"M413.752,-35.944C418.998,-38.7101 425.076,-41.3827 431,-42.7812 447.005,-46.5593 451.914,-46.1949 468,-42.7812 470.517,-42.247 473.072,-41.5242 475.599,-40.6798\"/>\n<polygon fill=\"black\" stroke=\"black\" points=\"477.041,-43.874 485.071,-36.962 474.483,-37.3581 477.041,-43.874\"/>\n<text text-anchor=\"middle\" x=\"449.5\" y=\"-48.5812\" font-family=\"Times,serif\" font-size=\"14.00\">cat</text>\n</g>\n<!-- 4&#45;&gt;5 -->\n<g id=\"edge11\" class=\"edge\"><title>4&#45;&gt;5</title>\n<path fill=\"none\" stroke=\"black\" d=\"M415.919,-24.8973C420.781,-24.4368 426.095,-24.0106 431,-23.7812 447.426,-23.0129 451.57,-23.0978 468,-23.7812 469.527,-23.8447 471.09,-23.9233 472.668,-24.0136\"/>\n<polygon fill=\"black\" stroke=\"black\" points=\"472.859,-27.5354 483.079,-24.7418 473.347,-20.5525 472.859,-27.5354\"/>\n<text text-anchor=\"middle\" x=\"449.5\" y=\"-27.5812\" font-family=\"Times,serif\" font-size=\"14.00\">dog</text>\n</g>\n<!-- 4&#45;&gt;5 -->\n<g id=\"edge12\" class=\"edge\"><title>4&#45;&gt;5</title>\n<path fill=\"none\" stroke=\"black\" d=\"M411.667,-14.8792C417.173,-10.494 423.967,-6.04651 431,-3.78117 446.653,1.26039 452.215,0.830661 468,-3.78117 471.631,-4.84197 475.244,-6.39294 478.702,-8.19667\"/>\n<polygon fill=\"black\" stroke=\"black\" points=\"477.021,-11.2696 487.4,-13.3985 480.614,-5.26198 477.021,-11.2696\"/>\n<text text-anchor=\"middle\" x=\"449.5\" y=\"-7.58117\" font-family=\"Times,serif\" font-size=\"14.00\">mouse</text>\n</g>\n</g>\n</svg>\n"
          },
          "metadata": {}
        }
      ]
    },
    {
      "metadata": {
        "collapsed": true,
        "trusted": true
      },
      "cell_type": "markdown",
      "source": "So there you have it. Julia as a glue language.\nSticking together commandline scripts as well as any shell language.\nBut it is no turing tarpit -- it is one of the most expessive programming languages around.\nSo next time you find yourself bashing tools together (pun intended), maybe use julia.\nI wouldn't say it is worth learning just for that, but if it is aleady part of your repertoire,\nthen I wouldn't be wasting my time with bash, for orchestrating these kinda of workflows.\nEspecially once julia 1.0 (or 2.0) comes out and everything becomes stable.\n"
    }
  ],
  "metadata": {
    "kernelspec": {
      "name": "julia-0.5",
      "display_name": "Julia 0.5.1-pre",
      "language": "julia"
    },
    "language_info": {
      "mimetype": "application/julia",
      "file_extension": ".jl",
      "version": "0.5.1",
      "name": "julia"
    },
    "gist": {
      "id": "",
      "data": {
        "description": "Julia OpenFST glue example",
        "public": true
      }
    }
  },
  "nbformat": 4,
  "nbformat_minor": 2
}
